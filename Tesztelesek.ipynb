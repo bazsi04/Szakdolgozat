{
  "cells": [
    {
      "cell_type": "markdown",
      "metadata": {
        "id": "view-in-github",
        "colab_type": "text"
      },
      "source": [
        "<a href=\"https://colab.research.google.com/github/bazsi04/Szakdolgozat/blob/main/Tesztelesek.ipynb\" target=\"_parent\"><img src=\"https://colab.research.google.com/assets/colab-badge.svg\" alt=\"Open In Colab\"/></a>"
      ]
    },
    {
      "cell_type": "markdown",
      "metadata": {
        "id": "oFzGzBajo9-U"
      },
      "source": [
        "Importálás"
      ]
    },
    {
      "cell_type": "code",
      "execution_count": null,
      "metadata": {
        "id": "F9gVcvEppCX7"
      },
      "outputs": [],
      "source": [
        "from heapq import heappush, heappop\n",
        "import numpy as np\n",
        "from itertools import combinations\n",
        "import random\n",
        "import networkx as nx\n",
        "import math\n",
        "import time\n",
        "import matplotlib.pyplot as plt"
      ]
    },
    {
      "cell_type": "markdown",
      "metadata": {
        "id": "SsbsPSDRHWkT"
      },
      "source": [
        "### Tesztelés"
      ]
    },
    {
      "cell_type": "code",
      "execution_count": null,
      "metadata": {
        "id": "MoE2QzTYCc4U"
      },
      "outputs": [],
      "source": [
        "def test1(ex_out1, input1):\n",
        "    assert ex_out1 == nemneg_mon(input1)\n",
        "\n",
        "def test2(ex_out2, input2):\n",
        "    assert ex_out2 == nemneg_mon(input2)\n",
        "\n",
        "def test3(ex_out3, input3):\n",
        "    assert ex_out3 == nemneg_mon(input3)\n",
        "\n",
        "\n",
        "input1 = 4, {1: [(2, 10), (3, 2)], 2: [(4, 9)], 3: [(2, 1)], 4: []}, 1\n",
        "ex_out1 = {1: 0, 2: 3, 3: 2, 4: 19}, {(1, 2): 10, (1, 3): 2, (3, 2): 3, (2, 4): 19}, {1: 1, 2: (3, 2), 3: (1, 3), 4: (2, 4)}, {(1, 2): 1, (1, 3): 1, (3, 2): (1, 3), (2, 4): (1, 2)}\n",
        "\n",
        "input2 = 8, {1: [(2, 24), (4, 42), (7, 91), (8, 0)], 2: [(3, 23)], 3: [(4, 41), (6, 33), (8, 10)], 4: [(6, 49)], 5: [(4, 4), (7, 26)], 6: [(8, 45)], 7: [(6, 5), (8, 21)], 8: [(4, 6), (5, 0), (7, 1)]}, 1\n",
        "ex_out2 = {1: 0, 2: 24, 3: 47, 4: 42, 5: 57, 6: 96, 7: 58, 8: 0}, {(1, 2): 24, (1, 4): 42, (1, 7): 91, (1, 8): 0, (2, 3): 47, (3, 8): 57, (8, 5): 57, (8, 7): 58, (8, 4): 63, (7, 6): 96, (7, 8): 112}, {1: 1, 2: (1, 2), 4: (1, 4), 7: (8, 7), 8: (1, 8), 3: (2, 3), 5: (8, 5), 6: (7, 6)}, {(1, 2): 1, (1, 4): 1, (1, 7): 1, (1, 8): 1, (2, 3): (1, 2), (3, 8): (2, 3), (8, 5): (3, 8), (8, 7): (3, 8), (8, 4): (3, 8), (7, 6): (1, 7), (7, 8): (1, 7)}\n",
        "\n",
        "input3 = 8, {1: [(2, 40), (3, 3), (4, 41), (6, 48)], 2: [(5, 8)], 3: [(5, 17), (6, 5)], 4: [(5, 38)], 5: [(3, 40), (7, 31)], 6: [(2, 26)], 7: [(2, 46)], 8: [(3, 6), (5, 28), (7, 9)],}, 1\n",
        "ex_out3 = {1: 0, 2: 40, 3: 3, 4: 41, 5: 48, 6: 48, 7: 110}, {(1, 2): 40, (1, 3): 3, (1, 4): 41, (1, 6): 48, (2, 5): 48, (4, 5): 79, (5, 7): 110, (6, 2): 74}, {1: 1, 2: (1, 2), 3: (1, 3), 4: (1, 4), 5: (2, 5), 6: (1, 6), 7: (5, 7)}, {(1, 2): 1, (1, 3): 1, (1, 4): 1, (1, 6): 1, (2, 5): (1, 2), (4, 5): (1, 4), (6, 2): (1, 6), (5, 7): (4, 5)}\n",
        "\n",
        "\n",
        "test1(ex_out1, input1)\n",
        "test2(ex_out2, input2)\n",
        "test3(ex_out3, input3)"
      ]
    },
    {
      "cell_type": "markdown",
      "metadata": {
        "id": "4S_MTu3Wd-wp"
      },
      "source": [
        "Helyesség"
      ]
    },
    {
      "cell_type": "code",
      "execution_count": null,
      "metadata": {
        "id": "9jdTh-XgaM3N"
      },
      "outputs": [],
      "source": [
        "#nemnegatív és konzervatív algoritmusok ugyanazon megoldásokat adják nemnegatív élsúlyozásra\n",
        "n = 100\n",
        "_, adj_list, s = erdos_renyi(n, 0.4)\n",
        "R1, K1, pv1, pe1 = nemneg_mon((n, adj_list, s))\n",
        "R2, K2, pv2, pe2 = konz_mon((n, adj_list, s))\n",
        "\n",
        "for u in adj_list:\n",
        "    if u not in R1 and u not in R2:\n",
        "        continue\n",
        "    if u not in R1:\n",
        "        print(u, None, R2[u])\n",
        "        continue\n",
        "    if u not in R2:\n",
        "        print(u, R1[u], None)\n",
        "        continue\n",
        "    if R1[u] != R2[u]:\n",
        "        print(u, R1[u], R2[u])"
      ]
    },
    {
      "cell_type": "markdown",
      "metadata": {
        "id": "JzU8TiAAk0t1"
      },
      "source": [
        "Nemnegatív élsúlyozásra"
      ]
    },
    {
      "cell_type": "code",
      "execution_count": null,
      "metadata": {
        "id": "ed960wnUeEMX"
      },
      "outputs": [],
      "source": [
        "n=200 #növelhető 20000-ig\n",
        "\n",
        "V, adj_list, s = erdos_renyi(n, 0.005)\n",
        "\n",
        "\n",
        "input = (n, adj_list, s)\n",
        "R, K, p_v, p_e = nemneg_mon(input)\n",
        "\n",
        "c = {}\n",
        "for u in adj_list:\n",
        "    for v, w in adj_list[u]:\n",
        "        c[u,v] = w\n",
        "\n",
        "rev_lst = {u: [] for u in adj_list}\n",
        "for u in adj_list:\n",
        "    for v, weight in adj_list[u]:\n",
        "        rev_lst[v].append((u, weight))\n",
        "\n",
        "\n",
        "for (u,v) in K:\n",
        "    K_uv = K[u,v]\n",
        "    p = (u,v)\n",
        "\n",
        "    while p != s:\n",
        "        K_uv -= c[p]\n",
        "        for x,cost in rev_lst[p[0]]:\n",
        "            if (x,p[0]) in K and cost > c[p] and K[x,p[0]]+c[p] < K_uv:\n",
        "                print(\"Not the shortest path\")\n",
        "\n",
        "        if p_e[p] != s:\n",
        "            if p_e[p][1] != p[0]:\n",
        "                print(\"Invalid path: \", p, p_e[p])\n",
        "                break\n",
        "        p = p_e[p]\n",
        "\n",
        "    if K_uv != 0:\n",
        "        print(\"Invalid path length: \", u, v, K_uv)\n",
        "\n",
        "for x,y in K:\n",
        "    if K[x,y] < R[y]:\n",
        "        print(\"Wrong parent edge\")\n",
        "    if (x,y) == p_v[y] and K[x,y] != R[y]:\n",
        "        print(\"Wrong lenght\")"
      ]
    },
    {
      "cell_type": "markdown",
      "metadata": {
        "id": "_xkFqBrHlSoM"
      },
      "source": [
        "Konzervatív élsúlyozásra"
      ]
    },
    {
      "cell_type": "code",
      "execution_count": null,
      "metadata": {
        "id": "C8zT0cYhlWzE"
      },
      "outputs": [],
      "source": [
        "n=100 #növelhető 10000-ig\n",
        "\n",
        "V, adj_list, s = erdos_renyi(n, 0.0005)\n",
        "\n",
        "\n",
        "input = (n, adj_list, s)\n",
        "R, K, p_v, p_e = nemneg_mon(input)\n",
        "\n",
        "c = {}\n",
        "for u in adj_list:\n",
        "    for v, w in adj_list[u]:\n",
        "        c[u,v] = w\n",
        "\n",
        "rev_lst = {u: [] for u in adj_list}\n",
        "for u in adj_list:\n",
        "    for v, weight in adj_list[u]:\n",
        "        rev_lst[v].append((u, weight))\n",
        "\n",
        "for x,y in K:\n",
        "    if K[x,y] == np.inf:\n",
        "        K.pop(x,y)\n",
        "\n",
        "for (u,v) in K:\n",
        "    K_uv = K[u,v]\n",
        "    p = (u,v)\n",
        "\n",
        "    while p != s:\n",
        "        K_uv -= c[p]\n",
        "        for x,cost in rev_lst[p[0]]:\n",
        "            if (x,p[0]) in K and cost > c[p] and K[x,p[0]]+c[p] < K_uv:\n",
        "                print(\"Not the shortest path\")\n",
        "\n",
        "        if p_e[p] != s:\n",
        "            if p_e[p][1] != p[0]:\n",
        "                print(\"Invalid path: \", p, p_e[p])\n",
        "                break\n",
        "        p = p_e[p]\n",
        "\n",
        "    if K_uv != 0:\n",
        "        print(\"Invalid path length: \", u, v, K_uv)\n",
        "\n",
        "for x,y in K:\n",
        "    if K[x,y] < R[y]:\n",
        "        print(\"Wrong parent edge\")\n",
        "    if (x,y) == p_v[y] and K[x,y] != R[y]:\n",
        "        print(\"Wrong lenght\")"
      ]
    },
    {
      "cell_type": "markdown",
      "metadata": {
        "id": "b8ofxo6Y9W5f"
      },
      "source": [
        "Csúcssúlyozás"
      ]
    },
    {
      "cell_type": "code",
      "execution_count": null,
      "metadata": {
        "id": "ulIzwBro9arV"
      },
      "outputs": [],
      "source": [
        "n=200 #növelhető 20000-ig\n",
        "\n",
        "V, adj_list1, s = erdos_renyi(n, 0.005)\n",
        "adj_list = {}\n",
        "w = {v: random.randint(0,1000) for v in V}\n",
        "w[s]=0\n",
        "for u in adj_list1:\n",
        "    adj_list[u] = []\n",
        "    for v,_ in adj_list1[u]:\n",
        "        adj_list[u].append(v)\n",
        "\n",
        "\n",
        "input = (n, adj_list, s, w)\n",
        "K, p_v = csucs_min(input)\n",
        "\n",
        "rev_lst = {u: [] for u in adj_list}\n",
        "for u in adj_list:\n",
        "    for v in adj_list[u]:\n",
        "        rev_lst[v].append((u))\n",
        "\n",
        "\n",
        "for v in V:\n",
        "    p = v\n",
        "    if v not in K:\n",
        "        for u in rev_lst[v]:\n",
        "            if u in K:\n",
        "                print(\"Path exist\")\n",
        "                break\n",
        "        continue\n",
        "\n",
        "    K_v = K[v]\n",
        "    while p != s:\n",
        "        K_v -= w[p]\n",
        "        for x in rev_lst[p]:\n",
        "            if x in K and K[x] < K_v:\n",
        "                print(\"Not the shortest path\")\n",
        "\n",
        "        p = p_v[p]\n",
        "\n",
        "    if K_v != 0:\n",
        "        print(\"Invalid path length: \", v, K_v)"
      ]
    },
    {
      "cell_type": "markdown",
      "metadata": {
        "id": "5lk1WeOuGiOz"
      },
      "source": [
        "Legfeljebb k élű"
      ]
    },
    {
      "cell_type": "code",
      "execution_count": null,
      "metadata": {
        "id": "vNgTlw2_Gn6t"
      },
      "outputs": [],
      "source": [
        "n=100 #növelhető 10000-ig\n",
        "k=10\n",
        "V, adj_list, s = erdos_renyi(n, 0.005)\n",
        "input = (n, adj_list, s, k)\n",
        "K, p_v = k_el_min(input)\n",
        "\n",
        "c = {}\n",
        "for u in adj_list:\n",
        "    for v, w in adj_list[u]:\n",
        "        c[u,v] = w\n",
        "\n",
        "rev_lst = {u: [] for u in adj_list}\n",
        "for u in adj_list:\n",
        "    for v, weight in adj_list[u]:\n",
        "        rev_lst[v].append((u, weight))\n",
        "\n",
        "\n",
        "for v in V:\n",
        "    p = v\n",
        "    i = k\n",
        "    if K[i][v-1] == np.inf:\n",
        "        continue\n",
        "    K_v = K[k][v-1]\n",
        "\n",
        "    while p != s:\n",
        "        K_v -= c[p_v[i][p-1],p]\n",
        "        for x,cost in rev_lst[p]:\n",
        "            if K[i-1][x-1] < K_v:\n",
        "                print(\"Not the shortest path\")\n",
        "\n",
        "        p = p_v[i][p-1]\n",
        "        i -= 1\n",
        "        if i < 0:\n",
        "            print(\"Path longer than k\")\n",
        "            break\n",
        "\n",
        "    if K_v != 0:\n",
        "        print(\"Invalid path length: \", v+1, K_v)"
      ]
    },
    {
      "cell_type": "markdown",
      "metadata": {
        "id": "QPyB6NoLxEff"
      },
      "source": [
        "Pontosan k élű utak"
      ]
    },
    {
      "cell_type": "code",
      "execution_count": null,
      "metadata": {
        "id": "pf_TbpOoxJ4s"
      },
      "outputs": [],
      "source": [
        "n=100 #növelhető 10000-ig\n",
        "k=5\n",
        "V, adj_list, s = erdos_renyi(n, 0.0002)\n",
        "input = (n, adj_list, s, k)\n",
        "\n",
        "f_v, p_v, f, p, node_colors = colorcoding(input)\n",
        "rev_lst = {u: [] for u in adj_list}\n",
        "for u in adj_list:\n",
        "    for v, weight in adj_list[u]:\n",
        "        rev_lst[v].append((u, weight))\n",
        "\n",
        "#rekurzió nem elért csúcsból\n",
        "def check_path(v,q,s,rev_lst,f_v,node_colors):\n",
        "    if q == set():\n",
        "        return True\n",
        "    for u,_ in rev_lst[v]:\n",
        "        if (frozenset(q),(u,v)) in f_v:\n",
        "            return False\n",
        "        if v == s:\n",
        "            return True\n",
        "\n",
        "        a = set(q)\n",
        "        if node_colors[v] in a:\n",
        "            a.remove(node_colors[v])\n",
        "            if not check_path(u,a,s,rev_lst,f_v,node_colors):\n",
        "                return False\n",
        "            continue\n",
        "        return True\n",
        "    return True\n",
        "\n",
        "\n",
        "#létezik az út\n",
        "for v in V:\n",
        "    q = set(i for i in range(k))\n",
        "    if v in f_v:\n",
        "        e = p_v[v]\n",
        "        while e != s:\n",
        "            if f[frozenset(q),e] == False:\n",
        "                print(\"Wrong path\")\n",
        "                break\n",
        "            _,b = e\n",
        "            e = p[frozenset(q),e]\n",
        "            q.remove(node_colors[b])\n",
        "\n",
        "        continue\n",
        "\n",
        "#tényleg nem létezik út\n",
        "    if not check_path(v,q,s,rev_lst,f_v,node_colors):\n",
        "        print(\"Path exist\")"
      ]
    }
  ],
  "metadata": {
    "colab": {
      "provenance": [],
      "authorship_tag": "ABX9TyMif5GpOonGSKT1cf7XMdRk",
      "include_colab_link": true
    },
    "kernelspec": {
      "display_name": "Python 3",
      "name": "python3"
    },
    "language_info": {
      "name": "python"
    }
  },
  "nbformat": 4,
  "nbformat_minor": 0
}