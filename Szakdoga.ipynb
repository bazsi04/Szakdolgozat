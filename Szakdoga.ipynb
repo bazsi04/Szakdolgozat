{
  "cells": [
    {
      "cell_type": "markdown",
      "metadata": {
        "id": "view-in-github",
        "colab_type": "text"
      },
      "source": [
        "<a href=\"https://colab.research.google.com/github/bazsi04/Szakdolgozat/blob/main/Szakdoga.ipynb\" target=\"_parent\"><img src=\"https://colab.research.google.com/assets/colab-badge.svg\" alt=\"Open In Colab\"/></a>"
      ]
    },
    {
      "cell_type": "markdown",
      "metadata": {
        "id": "tz3PsDdeGnGG"
      },
      "source": [
        "### Nem-negatív élsúlyozás, szig. mon. csökk. legrövidebb út"
      ]
    },
    {
      "cell_type": "code",
      "execution_count": null,
      "metadata": {
        "id": "gD4MXMG290bd"
      },
      "outputs": [],
      "source": [
        "from heapq import heappush, heappop\n",
        "\n",
        "def nem_neg_mon(input):\n",
        "    V, adj_list, s = input\n",
        "    P = []\n",
        "    S = {s}\n",
        "    p_v = {s: s}\n",
        "    p_e = {}\n",
        "    R = {s: 0}\n",
        "    c = {}\n",
        "\n",
        "    for u in adj_list:\n",
        "        for (v, weight) in adj_list[u]:\n",
        "            c[u,v] = weight\n",
        "\n",
        "    h = {u: 0 for u in V}\n",
        "    numedge = {u: len(adj_list[u]) for u in V}\n",
        "    F = {u: sorted(adj_list[u], key=lambda x: x[1]) for u in V}\n",
        "\n",
        "    for v, K in adj_list[s]:\n",
        "        heappush(P, (K, s, v))\n",
        "        p_e[s,v] = s\n",
        "        if v not in R or K_total < R[t]:\n",
        "            R[v] = K\n",
        "            p_v[v] = (s,v)\n",
        "\n",
        "\n",
        "    while P:\n",
        "        K_uv, u, v = heappop(P)\n",
        "        if h[v] > numedge[v]:\n",
        "            continue\n",
        "\n",
        "\n",
        "        for i in range(h[v], numedge[v]):\n",
        "            t, K_vt = F[v][i]\n",
        "            if c[v,t] >= c[u,v]:\n",
        "                break\n",
        "\n",
        "            K_total = K_uv + c[v,t]\n",
        "            p_e[v,t] = (u, v)\n",
        "            if t not in R or K_total < R[t]:\n",
        "                R[t] = K_total\n",
        "                p_v[t] = (v,t)\n",
        "                heappush(P, (K_total, v, t))\n",
        "\n",
        "            h[v] += 1\n",
        "\n",
        "    return p_v, p_e, R\n"
      ]
    },
    {
      "cell_type": "markdown",
      "metadata": {
        "id": "LWFp_OCaG0I1"
      },
      "source": [
        "### Konzervatív élsúlyozás, szig. mon. csökk. legrövidebb út"
      ]
    },
    {
      "cell_type": "code",
      "execution_count": null,
      "metadata": {
        "id": "BjerdAT7G39U"
      },
      "outputs": [],
      "source": [
        "from heapq import heappush, heappop\n",
        "\n",
        "def konz_mon(input):\n",
        "    V, adj_list, s = input\n",
        "    P = []\n",
        "    S = {s}\n",
        "    p_v = {s: s}\n",
        "    p_e = {}\n",
        "    R = {s: 0}\n",
        "    c = {}\n",
        "\n",
        "    for u in adj_list:\n",
        "        for (v, weight) in adj_list[u]:\n",
        "            c[u, v] = weight\n",
        "\n",
        "    h = {u: 0 for u in V}\n",
        "    numedge = {u: len(adj_list[u]) for u in V}\n",
        "    F = {u: sorted(adj_list[u], key=lambda x: x[1]) for u in V}\n",
        "\n",
        "    for v, cost in adj_list[s]:\n",
        "        heappush(P, (cost, s, v))\n",
        "        p_e[s, v] = s\n",
        "        if v not in R or cost < R[v]:\n",
        "            R[v] = cost\n",
        "            p_v[v] = (s, v)\n",
        "\n",
        "    while P:\n",
        "        K_uv, u, v = heappop(P)\n",
        "        if h[v] >= numedge[v]:\n",
        "            continue\n",
        "\n",
        "        for i in range(h[v], numedge[v]):\n",
        "            t, c_vt = F[v][i]\n",
        "            if c_vt >= c[u, v]:\n",
        "                break\n",
        "\n",
        "            K_total = K_uv + c_vt\n",
        "            p_e[v, t] = (u, v)\n",
        "            if t not in R or K_total < R[t]:\n",
        "                R[t] = K_total\n",
        "                p_v[t] = (v, t)\n",
        "                heappush(P, (K_total, v, t))\n",
        "\n",
        "            h[v] += 1\n",
        "\n",
        "    return p_v, p_e, R\n"
      ]
    },
    {
      "cell_type": "markdown",
      "metadata": {
        "id": "ZB_cbH8vQiqf"
      },
      "source": [
        "### Nem-negatív csúcssúlyozás minimális út"
      ]
    },
    {
      "cell_type": "code",
      "execution_count": null,
      "metadata": {
        "id": "QXkjVXu9RKgk"
      },
      "outputs": [],
      "source": [
        "def csucs_min(input):\n",
        "    V, adj_list, s = input\n",
        "    P = []\n",
        "    S = set()\n",
        "    M = set(V) - {s}\n",
        "    p_v = {s: s}\n",
        "    K = {s: 0}\n",
        "    w = {}\n",
        "\n",
        "    for u in adj_list:\n",
        "        for v, weight in adj_list[u]:\n",
        "            w[v] = weight\n",
        "\n",
        "    heappush(P, (w.get(s, 0), s))\n",
        "    while P:\n",
        "        K_u, u = heappop(P)\n",
        "        if u in S:\n",
        "            continue\n",
        "        S.add(u)\n",
        "\n",
        "        for v, _ in adj_list.get(u, []):\n",
        "            if v in M:\n",
        "                K[v] = K[u] + w.get(v, 0)\n",
        "                p_v[v] = p_v[u]\n",
        "                heappush(P, (K[v], v))\n",
        "                M.remove(v)\n",
        "\n",
        "    return p_v, K"
      ]
    },
    {
      "cell_type": "markdown",
      "metadata": {
        "id": "j0QNPgb3SDKk"
      },
      "source": [
        "### Legfeljebb k élű minimális út"
      ]
    },
    {
      "cell_type": "code",
      "execution_count": null,
      "metadata": {
        "id": "eCwIRqTQSDd9"
      },
      "outputs": [],
      "source": [
        "def k_el_min(input):\n",
        "    V, adj_list, s, k = input\n",
        "    K = {}\n",
        "    p = {}\n",
        "    c = {}\n",
        "\n",
        "    for u in adj_list:\n",
        "        for (v, weight) in adj_list[u]:\n",
        "            c[(u, v)] = weight\n",
        "\n",
        "\n",
        "    for u in V:\n",
        "        K[(0, u)] = float('inf')\n",
        "    K[(0, s)] = 0\n",
        "    p[(0, s)] = s\n",
        "\n",
        "    for j in range(1, k + 1):\n",
        "        for u in V:\n",
        "            K[(j, u)] = float('inf')\n",
        "            p[(j, u)] = p.get((j - 1, u), None)\n",
        "\n",
        "        for u in adj_list:\n",
        "            for v, cost in adj_list[u]:\n",
        "                prev = K.get((j - 1, u), float('inf'))\n",
        "                if K[(j, v)] > prev + cost:\n",
        "                    K[(j, v)] = prev + cost\n",
        "                    p[(j, v)] = u\n",
        "\n",
        "    return K, p"
      ]
    },
    {
      "cell_type": "markdown",
      "metadata": {
        "id": "ZPM2ekSPHEor"
      },
      "source": [
        "### k-hosszú út"
      ]
    },
    {
      "cell_type": "code",
      "execution_count": null,
      "metadata": {
        "id": "8XzWaF4wHK-S"
      },
      "outputs": [],
      "source": [
        "def coloring(V, adj_list, k, seed = None):\n",
        "    if seed is not None:\n",
        "        random.seed(seed)\n",
        "\n",
        "    node_colors = {v: random.randint(0, k-1) for v in V}\n",
        "\n",
        "\n",
        "    edge_colors = {}\n",
        "    for u in adj_list:\n",
        "        for v, _ in adj_list[u]:\n",
        "            edge_colors[(u, v)] = node_colors[v]\n",
        "\n",
        "    return node_colors, edge_colors"
      ]
    },
    {
      "cell_type": "code",
      "execution_count": null,
      "metadata": {
        "id": "nCmhc8qGLY5q"
      },
      "outputs": [],
      "source": [
        "from itertools import combinations\n",
        "import random\n",
        "\n",
        "def colorcoding(input, seed = None):\n",
        "    V, adj_list, s, k = input\n",
        "    from collections import defaultdict\n",
        "    f = {}\n",
        "    p = {}\n",
        "    colors = set(range(0,k))\n",
        "    _, edge_colors = coloring(V, adj_list, k, seed)\n",
        "    #print(\"colors: \",edge_colors)\n",
        "    w = {}\n",
        "    for u in adj_list:\n",
        "        for (v, weight) in adj_list[u]:\n",
        "            w[u, v] = weight\n",
        "\n",
        "    E = [(u, v) for u in adj_list for (v,_) in adj_list[u]]\n",
        "\n",
        "    rev_adj_list = {}\n",
        "    # Színek részhalmazai elemszám szerint növekvő sorrendben\n",
        "    P = [frozenset(comb) for i in range(1, k+1) for comb in combinations(colors, i)]\n",
        "\n",
        "\n",
        "    for p_set in P:\n",
        "        for (u, v) in E:\n",
        "            f[p_set, (u, v)] = False\n",
        "\n",
        "\n",
        "            if u == s and edge_colors[(u, v)] in p_set:\n",
        "                f[p_set, (u, v)] = True\n",
        "                p[p_set, (u, v)] = s\n",
        "\n",
        "\n",
        "    for p_set in P[k:]:\n",
        "        for (u, v) in E:\n",
        "            f[p_set, (u, v)] = False\n",
        "            if edge_colors[(u, v)] in p_set:\n",
        "                for (t, uu) in E:\n",
        "                    if uu == u and f.get((p_set - {edge_colors[(u, v)]}, (t, uu)), True) and w[(t, uu)] < w[(u, v)] and v != s:\n",
        "                        f[p_set, (u, v)] = True\n",
        "                        p[p_set, (u, v)] = (t, u)\n",
        "\n",
        "    for p_set in P[k:]:\n",
        "        for (u, v) in E:\n",
        "            f[p_set, (u, v)] = False\n",
        "            if edge_colors[(u, v)] in p_set:\n",
        "                for (t, uu) in E:\n",
        "                    if uu == u and f.get((p_set - {edge_colors[(u, v)]}, (t, uu)), True) and w[(t, uu)] < w[(u, v)] and v != s:\n",
        "                        f[p_set, (u, v)] = True\n",
        "                        p[p_set, (u, v)] = (t, u)\n",
        "\n",
        "\n",
        "    f_v = {}\n",
        "    p_v = {}\n",
        "    for (u, v) in E:\n",
        "        if f.get((P[-1], (u, v)), True):\n",
        "            f_v[v] = True\n",
        "            p_v[v] = (u, v)\n",
        "\n",
        "    return f_v, p_v, f, p"
      ]
    },
    {
      "cell_type": "code",
      "source": [
        "from itertools import combinations\n",
        "import random\n",
        "\n",
        "def colorcoding_fast(input, seed = None):\n",
        "    V, adj_list, s, k = input\n",
        "    from collections import defaultdict\n",
        "    f = {}\n",
        "    p = {}\n",
        "    colors = set(range(0,k))\n",
        "    _, edge_colors = coloring(V, adj_list, k, seed)\n",
        "    #print(\"colors: \",edge_colors)\n",
        "    \"\"\"\n",
        "    w = {}\n",
        "    for u in adj_list:\n",
        "        for (v, weight) in adj_list[u]:\n",
        "            w[u, v] = weight\n",
        "\n",
        "    E = [(u, v) for u in adj_list for (v,_) in adj_list[u]]\n",
        "    \"\"\"\n",
        "    rev_lst = {u: [] for u in adj_list}\n",
        "\n",
        "    for u in adj_list:\n",
        "        for v, weight in adj_list[u]:\n",
        "            rev_lst[v].append((u, weight))\n",
        "\n",
        "    # Színek részhalmazai elemszám szerint növekvő sorrendben\n",
        "    P = [frozenset(comb) for i in range(1, k+1) for comb in combinations(colors, i)]\n",
        "\n",
        "\n",
        "    for p_set in P:\n",
        "        for u in adj_list:\n",
        "            for v, _ in adj_list[u]:\n",
        "                f[p_set, (u, v)] = False\n",
        "\n",
        "\n",
        "            if u == s and edge_colors[(u, v)] in p_set:\n",
        "                f[p_set, (u, v)] = True\n",
        "                p[p_set, (u, v)] = s\n",
        "\n",
        "    \"\"\"\n",
        "    for p_set in P[k:]:\n",
        "        for (u, v) in E:\n",
        "            f[p_set, (u, v)] = False\n",
        "            if edge_colors[(u, v)] in p_set:\n",
        "                for (t, uu) in E:\n",
        "                    if uu == u and f.get((p_set - {edge_colors[(u, v)]}, (t, uu)), True) and w[(t, uu)] < w[(u, v)] and v != s:\n",
        "                        f[p_set, (u, v)] = True\n",
        "                        p[p_set, (u, v)] = (t, u)\n",
        "    \"\"\"\n",
        "    for p_set in P[k:]:\n",
        "        for u in adj_list:\n",
        "            for (v, w) in adj_list[u]:\n",
        "                f[p_set, (u, v)] = False\n",
        "                if edge_colors[(u, v)] in p_set:\n",
        "                    for (t, ww) in rev_lst[u]:\n",
        "                        if f.get((p_set - {edge_colors[(u, v)]}, (t, u)), True) and ww < w and v != s:\n",
        "                            f[p_set, (u, v)] = True\n",
        "                            p[p_set, (u, v)] = (t, u)\n",
        "\n",
        "\n",
        "    f_v = {}\n",
        "    p_v = {}\n",
        "    \"\"\"\n",
        "    for (u, v) in E:\n",
        "        if f.get((P[-1], (u, v)), True):\n",
        "            f_v[v] = True\n",
        "            p_v[v] = (u, v)\n",
        "    \"\"\"\n",
        "    for u in adj_list:\n",
        "        for v, _ in adj_list[u]:\n",
        "            if f.get((P[-1], (u, v)), True):\n",
        "                f_v[v] = True\n",
        "                p_v[v] = (u, v)\n",
        "\n",
        "    return f_v, p_v, f, p"
      ],
      "metadata": {
        "id": "mcVbSNgAEzJG"
      },
      "execution_count": null,
      "outputs": []
    },
    {
      "cell_type": "code",
      "execution_count": null,
      "metadata": {
        "colab": {
          "base_uri": "https://localhost:8080/"
        },
        "id": "E27nvi-PK92r",
        "outputId": "ae1f3e71-d4b2-4874-9db3-08517d78f2b0"
      },
      "outputs": [
        {
          "output_type": "stream",
          "name": "stdout",
          "text": [
            "f_v {}\n",
            "p_v {}\n",
            "f {(frozenset({0}), (1, 2)): False, (frozenset({0}), (1, 3)): True, (frozenset({0}), (2, 3)): False, (frozenset({0}), (3, 4)): False, (frozenset({1}), (1, 2)): False, (frozenset({1}), (1, 3)): False, (frozenset({1}), (2, 3)): False, (frozenset({1}), (3, 4)): False, (frozenset({2}), (1, 2)): True, (frozenset({2}), (1, 3)): False, (frozenset({2}), (2, 3)): False, (frozenset({2}), (3, 4)): False, (frozenset({0, 1}), (1, 2)): False, (frozenset({0, 1}), (1, 3)): False, (frozenset({0, 1}), (2, 3)): False, (frozenset({0, 1}), (3, 4)): False, (frozenset({0, 2}), (1, 2)): False, (frozenset({0, 2}), (1, 3)): False, (frozenset({0, 2}), (2, 3)): True, (frozenset({0, 2}), (3, 4)): True, (frozenset({1, 2}), (1, 2)): False, (frozenset({1, 2}), (1, 3)): False, (frozenset({1, 2}), (2, 3)): False, (frozenset({1, 2}), (3, 4)): False, (frozenset({0, 1, 2}), (1, 2)): False, (frozenset({0, 1, 2}), (1, 3)): False, (frozenset({0, 1, 2}), (2, 3)): False, (frozenset({0, 1, 2}), (3, 4)): False}\n",
            "p {(frozenset({0}), (1, 3)): 1, (frozenset({2}), (1, 2)): 1, (frozenset({0, 1}), (1, 3)): 1, (frozenset({0, 2}), (1, 2)): 1, (frozenset({0, 2}), (1, 3)): 1, (frozenset({1, 2}), (1, 2)): 1, (frozenset({0, 1, 2}), (1, 2)): 1, (frozenset({0, 1, 2}), (1, 3)): 1, (frozenset({0, 2}), (2, 3)): (1, 2), (frozenset({0, 2}), (3, 4)): (1, 3)}\n"
          ]
        }
      ],
      "source": [
        "V = [1, 2, 3, 4]\n",
        "adj_list = {\n",
        "    1: [(2, 1.0), (3, 2.0)],\n",
        "    2: [(3, 3.0)],\n",
        "    3: [(4, 4.5)],\n",
        "    4: []\n",
        "}\n",
        "s = 1\n",
        "k = 3  # k színből álló út keresése\n",
        "\n",
        "# Bemenet összeállítása és futtatás\n",
        "input = (V, adj_list, s, k)\n",
        "f_v, p_v, f, p = colorcoding(input)\n",
        "print(\"f_v\",f_v)\n",
        "print(\"p_v\",p_v)\n",
        "print(\"f\",f)\n",
        "print(\"p\",p)"
      ]
    },
    {
      "cell_type": "markdown",
      "metadata": {
        "id": "BErSEiw0G7ku"
      },
      "source": [
        "### Gráf generálás"
      ]
    },
    {
      "cell_type": "code",
      "execution_count": null,
      "metadata": {
        "id": "rmHcH4nsK3uC"
      },
      "outputs": [],
      "source": [
        "import random\n",
        "\n",
        "def erdos_renyi(n, p, min_w = 0, max_w = 1000, directed=True):\n",
        "    V = list(range(1, n+1))\n",
        "    Edges = {v: [] for v in V}\n",
        "\n",
        "    for u in V:\n",
        "        for v in V:\n",
        "            if u == v:\n",
        "                continue\n",
        "            if random.random() < p:\n",
        "                weight = random.uniform(min_w, max_w)\n",
        "                Edges[u].append((v, weight))\n",
        "                if not directed:\n",
        "                    Edges[v].append((u, weight))\n",
        "\n",
        "    return V, Edges, 1"
      ]
    },
    {
      "cell_type": "code",
      "execution_count": null,
      "metadata": {
        "id": "DiHtPUXcSLE3"
      },
      "outputs": [],
      "source": [
        "class TreeNode:\n",
        "    def __init__(self, val):\n",
        "        self.val = val\n",
        "        self.left = None\n",
        "        self.right = None\n",
        "\n",
        "def generate_binary_tree(n, min_w = 0, max_w = 1000):\n",
        "    if n == 0:\n",
        "        return None, {}\n",
        "\n",
        "    root = TreeNode(1)\n",
        "    nodes = [root]\n",
        "    edges = {1: []}\n",
        "\n",
        "\n",
        "    weight = max_w\n",
        "\n",
        "    for i in range(1, n):\n",
        "        parent = nodes[(i-1) // 2]\n",
        "\n",
        "        if parent.left is None:\n",
        "            child = TreeNode(i+1)\n",
        "            parent.left = child\n",
        "            weight = random.uniform(min_w, weight)\n",
        "            edges[parent.val].append((child.val, weight))\n",
        "            edges[child.val] = []\n",
        "            nodes.append(child)\n",
        "        elif parent.right is None:\n",
        "            child = TreeNode(i+1)\n",
        "            parent.right = child\n",
        "            weight = random.uniform(min_w, weight)\n",
        "            edges[parent.val].append((child.val, weight))\n",
        "            edges[child.val] = []\n",
        "            nodes.append(child)\n",
        "        else:\n",
        "            break\n",
        "\n",
        "    return list(range(1, n+1)), edges, 1"
      ]
    },
    {
      "cell_type": "code",
      "execution_count": null,
      "metadata": {
        "id": "RhrHFHdLiJJc"
      },
      "outputs": [],
      "source": [
        "def complete_graph(n, min_w = 0, max_w = 10):\n",
        "    V = list(range(1, n+1))\n",
        "    edges = {u: [(v, random.uniform(min_w, max_w)) for v in V if v != u] for u in V}\n",
        "    return V, edges, 1"
      ]
    },
    {
      "cell_type": "markdown",
      "metadata": {
        "id": "SsbsPSDRHWkT"
      },
      "source": [
        "### Tesztelés"
      ]
    },
    {
      "cell_type": "code",
      "execution_count": null,
      "metadata": {
        "colab": {
          "base_uri": "https://localhost:8080/"
        },
        "id": "2adwJyq55ZoO",
        "outputId": "240ebda1-2c8e-47ef-b0d9-e19f82c19160"
      },
      "outputs": [
        {
          "output_type": "stream",
          "name": "stdout",
          "text": [
            "{1: [(8, 920.7664379818925), (15, 103.29705088653573)], 2: [(3, 635.6496552383554), (9, 937.4657430402938), (17, 84.8149800027812), (18, 372.73919706691527), (20, 104.96418895027537)], 3: [(5, 557.9939017496323), (13, 222.43711915927733), (18, 209.77107548454742)], 4: [(7, 920.2604276237084), (13, 637.8402312279505), (15, 248.24313972477285), (17, 471.17957083784745)], 5: [(3, 133.9088745791954), (9, 802.6962606003535), (15, 78.95754469981765)], 6: [(2, 973.9983237829591), (7, 330.8314902050068), (12, 715.1331579959518), (14, 417.8023219455561)], 7: [(6, 359.9424723402712), (10, 670.2155423512661), (14, 237.94306495814575), (17, 236.97862921685197)], 8: [(5, 303.4342409987935), (6, 958.6557538737269), (12, 454.38688935306595), (19, 555.529313890589), (20, 507.09848703335615)], 9: [(4, 841.4170571934459), (15, 585.2474138575768), (16, 723.8137228077054), (19, 544.4816245238804)], 10: [(7, 777.3795982713981), (13, 516.4810037218771), (14, 959.8643817372104), (17, 710.5175225859982), (19, 535.1229330173837)], 11: [(15, 104.5785503047203)], 12: [(2, 873.8068865372932), (6, 310.870556766038), (17, 21.949718147408426)], 13: [(4, 34.35024970870426), (14, 830.0811838954926), (17, 916.5207493806305), (18, 30.916436050039575)], 14: [(2, 945.1800069160256), (11, 524.8590610521823), (16, 259.6444956753926)], 15: [(8, 974.0528500411452), (10, 791.5805879959075), (11, 290.23876015493965)], 16: [(10, 53.4224349881034)], 17: [(5, 536.4732901857293), (20, 980.8906606834037)], 18: [(3, 14.616407006230459), (9, 447.6236492488073), (13, 672.9970808491317), (14, 743.223347540345), (19, 547.5884922838875)], 19: [(5, 682.132672071311), (12, 689.1587106999369), (14, 946.4139233504123), (15, 361.88164319693396)], 20: [(6, 309.3427333153108), (10, 149.8433496261593), (11, 338.00953951466704), (14, 393.778520940712)]}\n",
            "Parent Vertex Pointers: {1: 1, 8: (1, 8), 15: (1, 15), 5: (8, 5), 12: (8, 12), 20: (8, 20), 19: (8, 19), 3: (5, 3), 17: (12, 17), 6: (12, 6), 10: (20, 10), 11: (20, 11), 14: (20, 14), 16: (14, 16)}\n",
            "Parent Edge Pointers: {(1, 8): 1, (1, 15): 1, (8, 5): (1, 8), (8, 12): (1, 8), (8, 20): (1, 8), (8, 19): (1, 8), (5, 15): (8, 5), (5, 3): (8, 5), (12, 17): (8, 12), (12, 6): (8, 12), (20, 10): (8, 20), (20, 6): (8, 20), (20, 11): (8, 20), (20, 14): (8, 20), (19, 15): (8, 19), (11, 15): (20, 11), (14, 16): (20, 14), (16, 10): (14, 16)}\n",
            "Shortest Path Costs: {1: 0, 8: 920.7664379818925, 15: 103.29705088653573, 5: 1224.200678980686, 12: 1375.1533273349585, 20: 1427.8649250152487, 19: 1476.2957518724816, 3: 1358.1095535598815, 17: 1397.103045482367, 6: 1686.0238841009964, 10: 1577.708274641408, 11: 1765.8744645299157, 14: 1821.6434459559607, 16: 2081.2879416313535}\n",
            "Reached: 14\n"
          ]
        }
      ],
      "source": [
        "\"\"\"\n",
        "V = [1, 2, 3, 4]\n",
        "adj_list = {\n",
        "    1: [(2, 10), (3, 2)],\n",
        "    2: [(4, 2.1)],\n",
        "    3: [(2, 1)],\n",
        "    4: []\n",
        "}\n",
        "s = 1\n",
        "\"\"\"\n",
        "V, adj_list, s = erdos_renyi(20, 0.2)\n",
        "#V, adj_list, s = generate_binary_tree(2047)\n",
        "#V, adj_list, s = complete_graph(5)\n",
        "\n",
        "input = (V, adj_list, s)\n",
        "\n",
        "print(adj_list)\n",
        "\n",
        "pv, pe, R = nem_neg_mon(input)\n",
        "\n",
        "print(\"Parent Vertex Pointers:\", pv)\n",
        "print(\"Parent Edge Pointers:\", pe)\n",
        "print(\"Shortest Path Costs:\", R)\n",
        "print(\"Reached:\", len(R))"
      ]
    },
    {
      "cell_type": "code",
      "execution_count": null,
      "metadata": {
        "colab": {
          "base_uri": "https://localhost:8080/"
        },
        "id": "SMVaweEZH--u",
        "outputId": "ec822098-bc58-4ba3-eeb7-b7a6390a8b9a"
      },
      "outputs": [
        {
          "output_type": "stream",
          "name": "stdout",
          "text": [
            "adj:  {1: [(2, 6.668911631649), (3, 9.679067578897257), (4, 4.475235013203694), (5, 8.57042134785585), (6, 8.252253886505773), (7, 1.505521133136244), (8, 4.643062924134666), (9, 6.277354997521468), (10, 6.103085336256791), (11, 3.9575505399597875), (12, 4.078129645412293)], 2: [(1, 0.6166551233801709), (3, 1.1280988705860684), (4, 0.7653149684843086), (5, 0.1967906938741093), (6, 9.456551451930874), (7, 7.606134728233693), (8, 5.611031987056418), (9, 0.8003680418699732), (10, 1.0172393670669067), (11, 4.548373006507525), (12, 2.879848013671489)], 3: [(1, 4.267724476784488), (2, 3.367153423832959), (4, 7.871145738349964), (5, 9.211800739820923), (6, 9.717396268410187), (7, 9.003000720962888), (8, 9.884385348697943), (9, 7.193069062311723), (10, 9.265149527892952), (11, 3.5079091758621663), (12, 5.034199965246177)], 4: [(1, 1.0152210249169435), (2, 5.536851360621324), (3, 8.542680287637511), (5, 9.353584247853956), (6, 3.7970225217908213), (7, 0.27870971710286074), (8, 2.923140157717662), (9, 2.959594747222458), (10, 5.8334385554988355), (11, 9.824347577495802), (12, 2.971461223634262)], 5: [(1, 2.83377482025072), (2, 4.652187749841331), (3, 4.994352702792645), (4, 4.803545634837195), (6, 2.5918808295557083), (7, 9.515402005499126), (8, 3.4903337633103346), (9, 2.711597210331197), (10, 8.482881712658722), (11, 4.512597262205578), (12, 9.06050303170417)], 6: [(1, 9.249362660153208), (2, 9.03068628761353), (3, 9.278311804356099), (4, 7.621447551905291), (5, 7.393372558449891), (7, 2.9583376020330334), (8, 6.5145642926432155), (9, 8.170734266369085), (10, 4.486840068358411), (11, 1.502348239161394), (12, 3.3110753893618106)], 7: [(1, 8.812693452421508), (2, 8.217969289273942), (3, 5.6763479805946275), (4, 0.538198004500201), (5, 0.6319965424019136), (6, 3.5544403742888866), (8, 8.649134761789583), (9, 9.777851917677859), (10, 0.43618614996970173), (11, 8.604483969057956), (12, 8.589340348132156)], 8: [(1, 3.796601288544459), (2, 8.907393752620694), (3, 3.4976664839346236), (4, 1.4908430005295559), (5, 3.435054200613937), (6, 5.0949106211181885), (7, 7.684704624925861), (9, 9.111638561968471), (10, 0.9893886471739377), (11, 1.7344550148320226), (12, 6.005400961188454)], 9: [(1, 1.3889765695596734), (2, 9.949874026309233), (3, 7.017707502617213), (4, 0.10058690951782578), (5, 3.5910184718432547), (6, 1.6954886844533723), (7, 3.5033848804151955), (8, 2.887253920817928), (10, 4.477932482984901), (11, 9.135681448949907), (12, 2.368538834742435)], 10: [(1, 2.4922944177416895), (2, 2.850525240313803), (3, 1.6471101823000656), (4, 0.5725332882907375), (5, 1.3452038169833713), (6, 3.8291493780728905), (7, 7.1317876423246265), (8, 4.521965216812044), (9, 3.8902767720353157), (11, 7.084974065961157), (12, 9.500399610769698)], 11: [(1, 2.8326699861648983), (2, 9.084327094859386), (3, 3.7594509998027528), (4, 9.920942596025979), (5, 5.6087735798796166), (6, 1.5432146140339764), (7, 6.230083541732396), (8, 6.536377280636861), (9, 0.13695248735079324), (10, 5.642393980226786), (12, 2.5541839729949665)], 12: [(1, 7.111317116243776), (2, 0.3934567849335924), (3, 6.670052419870586), (4, 6.980678893999891), (5, 5.220165127387684), (6, 6.7200139371734116), (7, 7.508767546851752), (8, 7.975735491095416), (9, 2.325542741371882), (10, 1.5505344398505694), (11, 5.425106622907911)]}\n",
            "f:  {12: True} p:  {12: (1, 12)}\n",
            "f:  {3: True, 4: True, 7: True, 8: True, 11: True} p:  {3: (12, 3), 4: (12, 4), 7: (12, 7), 8: (12, 8), 11: (12, 11)}\n",
            "f:  {4: True, 6: True, 8: True, 9: True, 10: True, 3: True, 5: True, 2: True} p:  {4: (3, 4), 6: (3, 6), 8: (3, 8), 9: (3, 9), 10: (5, 10), 3: (6, 3), 5: (11, 5), 2: (11, 2)}\n",
            "f:  {6: True, 8: True, 9: True, 2: True, 7: True, 11: True} p:  {6: (2, 6), 8: (7, 8), 9: (7, 9), 2: (9, 2), 7: (8, 7), 11: (9, 11)}\n",
            "f:  {9: True} p:  {9: (7, 9)}\n",
            "f:  {9: True, 2: True} p:  {9: (8, 9), 2: (9, 2)}\n",
            "f:  {9: True, 2: True} p:  {9: (7, 9), 2: (9, 2)}\n",
            "8\n"
          ]
        }
      ],
      "source": [
        "\"\"\"\n",
        "V = [1, 2, 3, 4]\n",
        "adj_list = {\n",
        "    1: [(2, -3), (3, 1)],\n",
        "    2: [(4, 3)],\n",
        "    3: [(2, 2)],\n",
        "    4: []\n",
        "}\n",
        "s = 1\n",
        "\"\"\"\n",
        "#V, adj_list, s = erdos_renyi(30, 0.2)\n",
        "#V, adj_list, s = generate_binary_tree(2047)\n",
        "V, adj_list, s = complete_graph(12)\n",
        "\n",
        "print(\"adj: \", adj_list)\n",
        "\n",
        "\n",
        "k = 1\n",
        "i = 0\n",
        "while i < 100:\n",
        "    input = (V, adj_list, s, k)\n",
        "    f, p, f_v, p_v = colorcoding_fast(input)\n",
        "\n",
        "    for u in V:\n",
        "        if f:\n",
        "            print(\"f: \", f, \"p: \", p)\n",
        "            k += 1\n",
        "            i = 0\n",
        "            break\n",
        "    i += 1\n",
        "\n",
        "print(k)\n",
        "\n",
        "\n"
      ]
    },
    {
      "cell_type": "code",
      "execution_count": null,
      "metadata": {
        "id": "UNLIUub1IPVC"
      },
      "outputs": [],
      "source": [
        "\"\"\"\n",
        "V = [1, 2, 3, 4]\n",
        "adj_list = {\n",
        "    1: [(2, 10), (3, 2)],\n",
        "    2: [(4, 2)],\n",
        "    3: [(2, -1)],\n",
        "    4: []\n",
        "}\n",
        "s = 1\n",
        "\"\"\"\n",
        "V, adj_list, s = erdos_renyi(2000, 0.02, min_w = -1000)\n"
      ]
    },
    {
      "cell_type": "code",
      "execution_count": null,
      "metadata": {
        "id": "MoE2QzTYCc4U"
      },
      "outputs": [],
      "source": [
        "def test(ex_out1, input1):\n",
        "    assert ex_out1 == nem_neg_mon(input1)\n",
        "    #assert ex_out2 == nem_neg_mon(input2)\n",
        "    #assert ex_out3 == nem_neg_mon(input3)\n",
        "\n",
        "ex_out1 = {1: 1, 2: (3, 2), 3: (1, 3), 4: (2, 4)}, {(1, 2): 1, (1, 3): 1, (3, 2): (1, 3), (2, 4): (1, 2)}, {1: 0, 2: 3, 3: 2, 4: 19}\n",
        "input1 = [1, 2, 3, 4], {1: [(2, 10), (3, 2)], 2: [(4, 9)], 3: [(2, 1)], 4: []}, 1\n",
        "\n",
        "\n",
        "\n",
        "\n",
        "test(ex_out1, input1)"
      ]
    }
  ],
  "metadata": {
    "colab": {
      "provenance": [],
      "authorship_tag": "ABX9TyMxskw0JwiFuYTkGM5zhbDA",
      "include_colab_link": true
    },
    "kernelspec": {
      "display_name": "Python 3",
      "name": "python3"
    },
    "language_info": {
      "name": "python"
    }
  },
  "nbformat": 4,
  "nbformat_minor": 0
}