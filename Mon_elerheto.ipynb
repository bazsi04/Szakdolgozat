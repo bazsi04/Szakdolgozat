{
  "cells": [
    {
      "cell_type": "markdown",
      "metadata": {
        "id": "view-in-github",
        "colab_type": "text"
      },
      "source": [
        "<a href=\"https://colab.research.google.com/github/bazsi04/Szakdolgozat/blob/main/Mon_elerheto.ipynb\" target=\"_parent\"><img src=\"https://colab.research.google.com/assets/colab-badge.svg\" alt=\"Open In Colab\"/></a>"
      ]
    },
    {
      "cell_type": "markdown",
      "source": [
        "Importálás"
      ],
      "metadata": {
        "id": "oFzGzBajo9-U"
      }
    },
    {
      "cell_type": "code",
      "source": [
        "from heapq import heappush, heappop\n",
        "import numpy as np\n",
        "from itertools import combinations\n",
        "import random\n",
        "import networkx as nx\n",
        "import math\n",
        "import time\n",
        "import matplotlib.pyplot as plt"
      ],
      "metadata": {
        "id": "F9gVcvEppCX7"
      },
      "execution_count": null,
      "outputs": []
    },
    {
      "cell_type": "markdown",
      "source": [
        "### Összehasonlítás"
      ],
      "metadata": {
        "id": "roMi3TcBbJsJ"
      }
    },
    {
      "cell_type": "code",
      "source": [
        "def m_ba(n, target_edges):\n",
        "    \"\"\"\n",
        "    Becsli az m paramétert a Barabási–Albert modellhez úgy, hogy a generált gráfban\n",
        "    körülbelül target_edges darab él legyen n csúcs esetén.\n",
        "\n",
        "    Visszatér n és egy érvényes m értékkel (0 < m < n).\n",
        "    \"\"\"\n",
        "\n",
        "    m1 = round(n-0.5+ math.sqrt((n-0.5)**2-2*target_edges))\n",
        "    m2 = round(n-0.5- math.sqrt((n-0.5)**2-2*target_edges))\n",
        "\n",
        "    if m1 > n or m1 < 1:\n",
        "        m1=m2\n",
        "    if m1 > n:\n",
        "        return n-1\n",
        "    if m1 < 1:\n",
        "        return 1\n",
        "    return n, m1"
      ],
      "metadata": {
        "id": "dcnFxFVBkJWN"
      },
      "execution_count": null,
      "outputs": []
    },
    {
      "cell_type": "code",
      "source": [
        "data_ba = []\n",
        "data_ws = []\n",
        "data_ws2 = []\n",
        "data_er = []\n",
        "edges_b = []\n",
        "edges_w = []\n",
        "edges_ws2 = []\n",
        "edges_e = []\n",
        "\n",
        "#paraméterek\n",
        "n = 300\n",
        "k=60\n",
        "t=100\n",
        "p =0.015\n",
        "\n",
        "for i in range(0,k,2):\n",
        "\n",
        "    if i%1==0:\n",
        "        p = p*1.025\n",
        "\n",
        "\n",
        "    edges_e1 = 0\n",
        "    edges_w1 = 0\n",
        "    edges_w2 = 0\n",
        "    edges_b1 = 0\n",
        "    reached_erdos = 0\n",
        "    reached_barabasi = 0\n",
        "    reached_watts = 0\n",
        "    reached_watts2 = 0\n",
        "    for j in range(1,t+1):\n",
        "        #erdos\n",
        "        V, adj_list, s = erdos_renyi(n, p)\n",
        "        input = (n, adj_list, s)\n",
        "        R, pv, pe = nemneg_mon(input)\n",
        "        reached_erdos += len(R)\n",
        "        for u in adj_list:\n",
        "            edges_e1 += len(adj_list[u])\n",
        "\n",
        "        #barabas\n",
        "        n, m = m_ba(n, round(edges_e1/j))\n",
        "        V, adj_list, s = barabasi_albert(n, min(max(1,abs(m+random.randint(-2,2))),n-1))\n",
        "        input = (n, adj_list, s)\n",
        "        R, pv, pe = nemneg_mon(input)\n",
        "        reached_barabasi += len(R)\n",
        "        for u in adj_list:\n",
        "            edges_b1 += len(adj_list[u])\n",
        "\n",
        "        #watts\n",
        "        V, adj_list, s = watts_strogatz(n, min(n,max(1,round(edges_e1/(j*0.5*n)+random.randint(-2,2)))), 0.2)\n",
        "        input = (n, adj_list, s)\n",
        "        R, pv, pe = nemneg_mon(input)\n",
        "        reached_watts += len(R)\n",
        "        for u in adj_list:\n",
        "            edges_w1 += len(adj_list[u])\n",
        "\n",
        "        V, adj_list, s = watts_strogatz(n, min(n,max(1,round(edges_e1/(j*0.5*n)+random.randint(-2,2)))), 0.6)\n",
        "        input = (n, adj_list, s)\n",
        "        R, pv, pe = nemneg_mon(input)\n",
        "        reached_watts2 += len(R)\n",
        "        for u in adj_list:\n",
        "            edges_w2 += len(adj_list[u])\n",
        "\n",
        "    data_ba.append(reached_barabasi/t)\n",
        "    data_ws.append(reached_watts/t)\n",
        "    data_ws2.append(reached_watts2/t)\n",
        "    data_er.append(reached_erdos/t)\n",
        "    edges_b.append(edges_b1/t)\n",
        "    edges_w.append(edges_w1/t)\n",
        "    edges_ws2.append(edges_w2/t)\n",
        "    edges_e.append(edges_e1/t)\n",
        "\n",
        "    #ha az csúcsok 99%-át eléjük álljuk meg\n",
        "    if reached_barabasi/t >= n*0.99 or reached_watts/t >= n*0.99 or reached_erdos/t >= n*0.99 or reached_watts2/t >= n*0.99:\n",
        "        print(i)\n",
        "        break\n",
        "\n",
        "# Kirajzolás\n",
        "plt.figure(figsize=(8, 5))\n",
        "plt.scatter(edges_e, data_er, label=\"Erdős–Rényi\", color=\"green\", marker='^')\n",
        "plt.scatter(edges_b, data_ba, label=\"Barabási–Albert\", color=\"red\", marker='o')\n",
        "plt.scatter(edges_w, data_ws, label=\"Watts–Strogatz 0.2\", color=\"blue\", marker='s')\n",
        "plt.scatter(edges_ws2, data_ws2, label=\"Watts–Strogatz 0.6\", color=\"yellow\", marker='s')\n",
        "\n",
        "plt.xlabel(\"Élek száma\")\n",
        "plt.ylabel(\"Elért csúcsok száma\")\n",
        "plt.legend()\n",
        "plt.grid(True)\n",
        "plt.tight_layout()\n",
        "plt.show()"
      ],
      "metadata": {
        "id": "A-yKmQiO1VQL"
      },
      "execution_count": null,
      "outputs": []
    }
  ],
  "metadata": {
    "colab": {
      "provenance": [],
      "authorship_tag": "ABX9TyPTbk1km4YHjiG+YSRbaqb3",
      "include_colab_link": true
    },
    "kernelspec": {
      "display_name": "Python 3",
      "name": "python3"
    },
    "language_info": {
      "name": "python"
    }
  },
  "nbformat": 4,
  "nbformat_minor": 0
}