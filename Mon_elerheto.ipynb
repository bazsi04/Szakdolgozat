{
  "cells": [
    {
      "cell_type": "markdown",
      "metadata": {
        "id": "view-in-github",
        "colab_type": "text"
      },
      "source": [
        "<a href=\"https://colab.research.google.com/github/bazsi04/Szakdolgozat/blob/main/Mon_elerheto.ipynb\" target=\"_parent\"><img src=\"https://colab.research.google.com/assets/colab-badge.svg\" alt=\"Open In Colab\"/></a>"
      ]
    },
    {
      "cell_type": "markdown",
      "source": [
        "Importálás"
      ],
      "metadata": {
        "id": "oFzGzBajo9-U"
      }
    },
    {
      "cell_type": "code",
      "source": [
        "from heapq import heappush, heappop\n",
        "import numpy as np\n",
        "from itertools import combinations\n",
        "import random\n",
        "import networkx as nx\n",
        "import math\n",
        "import time\n",
        "import matplotlib.pyplot as plt"
      ],
      "metadata": {
        "id": "F9gVcvEppCX7"
      },
      "execution_count": null,
      "outputs": []
    },
    {
      "cell_type": "markdown",
      "source": [
        "### Monoton úton elérhető csúcsok száma"
      ],
      "metadata": {
        "id": "roMi3TcBbJsJ"
      }
    },
    {
      "cell_type": "code",
      "source": [
        "def m_ba(n, target_edges):\n",
        "    \"\"\"\n",
        "    Becsli az m paramétert a Barabási–Albert modellhez úgy, hogy a generált gráfban\n",
        "    körülbelül target_edges darab él legyen n csúcs esetén.\n",
        "\n",
        "    Visszatér n és egy érvényes m értékkel (0 < m < n).\n",
        "    \"\"\"\n",
        "\n",
        "    m1 = round(n-0.5+ math.sqrt((n-0.5)**2-2*target_edges))\n",
        "    m2 = round(n-0.5- math.sqrt((n-0.5)**2-2*target_edges))\n",
        "\n",
        "    if m1 > n or m1 < 1:\n",
        "        m1=m2\n",
        "    if m1 > n:\n",
        "        return n-1\n",
        "    if m1 < 1:\n",
        "        return 1\n",
        "    return n, m1"
      ],
      "metadata": {
        "id": "dcnFxFVBkJWN"
      },
      "execution_count": null,
      "outputs": []
    }
  ],
  "metadata": {
    "colab": {
      "provenance": [],
      "authorship_tag": "ABX9TyMv3QjmLZLnIIuh/xVGYP3A",
      "include_colab_link": true
    },
    "kernelspec": {
      "display_name": "Python 3",
      "name": "python3"
    },
    "language_info": {
      "name": "python"
    }
  },
  "nbformat": 4,
  "nbformat_minor": 0
}