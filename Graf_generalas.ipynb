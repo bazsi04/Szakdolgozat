{
  "cells": [
    {
      "cell_type": "markdown",
      "metadata": {
        "id": "view-in-github",
        "colab_type": "text"
      },
      "source": [
        "<a href=\"https://colab.research.google.com/github/bazsi04/Szakdolgozat/blob/main/Graf_generalas.ipynb\" target=\"_parent\"><img src=\"https://colab.research.google.com/assets/colab-badge.svg\" alt=\"Open In Colab\"/></a>"
      ]
    },
    {
      "cell_type": "markdown",
      "source": [
        "Importálás"
      ],
      "metadata": {
        "id": "oFzGzBajo9-U"
      }
    },
    {
      "cell_type": "code",
      "source": [
        "from heapq import heappush, heappop\n",
        "import numpy as np\n",
        "from itertools import combinations\n",
        "import random\n",
        "import networkx as nx\n",
        "import math\n",
        "import time\n",
        "import matplotlib.pyplot as plt"
      ],
      "metadata": {
        "id": "F9gVcvEppCX7"
      },
      "execution_count": null,
      "outputs": []
    },
    {
      "cell_type": "markdown",
      "metadata": {
        "id": "BErSEiw0G7ku"
      },
      "source": [
        "### Gráf generálás"
      ]
    },
    {
      "cell_type": "code",
      "execution_count": null,
      "metadata": {
        "id": "rmHcH4nsK3uC"
      },
      "outputs": [],
      "source": [
        "import random\n",
        "\n",
        "def erdos_renyi(n, p, weight_range=(0, 1000), directed=True):\n",
        "    V = list(range(1, n+1))\n",
        "    Edges = {v: [] for v in V}\n",
        "\n",
        "    for u in V:\n",
        "        for v in V:\n",
        "            if u == v:\n",
        "                continue\n",
        "            if not directed and u > v:\n",
        "                continue\n",
        "            if random.random() < p:\n",
        "                weight = random.randint(*weight_range)\n",
        "                Edges[u].append((v, weight))\n",
        "                if not directed:\n",
        "                    Edges[v].append((u, weight))\n",
        "\n",
        "    return V, Edges, 1"
      ]
    },
    {
      "cell_type": "code",
      "source": [
        "import networkx as nx\n",
        "def barabasi_albert(n, m, weight_range=(0, 1000)):\n",
        "    V = list(range(1, n+1))\n",
        "    G = nx.barabasi_albert_graph(n, m)\n",
        "    Edges = {u+1: [] for u in G.nodes}\n",
        "\n",
        "    for u, v in G.edges:\n",
        "        weight = random.randint(*weight_range)\n",
        "        if random.randint(0,1):\n",
        "            Edges[u+1].append((v+1, weight))\n",
        "        else:\n",
        "            Edges[v+1].append((u+1, weight))\n",
        "\n",
        "    return V, Edges, random.randint(1,n)"
      ],
      "metadata": {
        "id": "hhGuFkylFW4t"
      },
      "execution_count": null,
      "outputs": []
    },
    {
      "cell_type": "code",
      "source": [
        "def watts_strogatz(n, k, p, weight_range=(0, 1000)):\n",
        "    V = list(range(1, n+1))\n",
        "    G = nx.watts_strogatz_graph(n, k, p)\n",
        "    Edges = {}\n",
        "    for u in G.nodes:\n",
        "        Edges[u+1] = []\n",
        "\n",
        "    for u, v in G.edges:\n",
        "        weight = random.randint(*weight_range)\n",
        "        if random.randint(0,1):\n",
        "            Edges[u+1].append((v+1, weight))\n",
        "        else:\n",
        "            Edges[v+1].append((u+1, weight))\n",
        "\n",
        "    return V, Edges, 1"
      ],
      "metadata": {
        "id": "2Ne-uL5qEdSa"
      },
      "execution_count": null,
      "outputs": []
    },
    {
      "cell_type": "code",
      "execution_count": null,
      "metadata": {
        "id": "DiHtPUXcSLE3"
      },
      "outputs": [],
      "source": [
        "class TreeNode:\n",
        "    def __init__(self, val):\n",
        "        self.val = val\n",
        "        self.left = None\n",
        "        self.right = None\n",
        "\n",
        "def generate_binary_tree(n, min_w = 0, max_w = 1000):\n",
        "    if n == 0:\n",
        "        return None, {}\n",
        "\n",
        "    root = TreeNode(1)\n",
        "    nodes = [root]\n",
        "    edges = {1: []}\n",
        "\n",
        "\n",
        "    weight = max_w\n",
        "\n",
        "    for i in range(1, n):\n",
        "        parent = nodes[(i-1) // 2]\n",
        "\n",
        "        if parent.left is None:\n",
        "            child = TreeNode(i+1)\n",
        "            parent.left = child\n",
        "            weight = random.randint(min_w, weight)\n",
        "            edges[parent.val].append((child.val, weight))\n",
        "            edges[child.val] = []\n",
        "            nodes.append(child)\n",
        "        elif parent.right is None:\n",
        "            child = TreeNode(i+1)\n",
        "            parent.right = child\n",
        "            weight = random.randint(min_w, weight)\n",
        "            edges[parent.val].append((child.val, weight))\n",
        "            edges[child.val] = []\n",
        "            nodes.append(child)\n",
        "        else:\n",
        "            break\n",
        "\n",
        "    return list(range(1, n+1)), edges, 1"
      ]
    },
    {
      "cell_type": "code",
      "execution_count": null,
      "metadata": {
        "id": "RhrHFHdLiJJc"
      },
      "outputs": [],
      "source": [
        "def complete_graph(n, min_w = 0, max_w = 10):\n",
        "    V = list(range(1, n+1))\n",
        "    edges = {u: [(v, random.uniform(min_w, max_w)) for v in V if v != u] for u in V}\n",
        "    return V, edges, 1"
      ]
    }
  ],
  "metadata": {
    "colab": {
      "provenance": [],
      "collapsed_sections": [
        "lc0NXTQQo4FC",
        "BErSEiw0G7ku",
        "roMi3TcBbJsJ"
      ],
      "authorship_tag": "ABX9TyN7MQtUBMv1TVcHjxHQeGx1",
      "include_colab_link": true
    },
    "kernelspec": {
      "display_name": "Python 3",
      "name": "python3"
    },
    "language_info": {
      "name": "python"
    }
  },
  "nbformat": 4,
  "nbformat_minor": 0
}