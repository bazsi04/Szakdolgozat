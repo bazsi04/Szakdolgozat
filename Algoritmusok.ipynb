{
  "cells": [
    {
      "cell_type": "markdown",
      "metadata": {
        "id": "view-in-github",
        "colab_type": "text"
      },
      "source": [
        "<a href=\"https://colab.research.google.com/github/bazsi04/Szakdolgozat/blob/main/Algoritmusok.ipynb\" target=\"_parent\"><img src=\"https://colab.research.google.com/assets/colab-badge.svg\" alt=\"Open In Colab\"/></a>"
      ]
    },
    {
      "cell_type": "markdown",
      "source": [
        "Importálás"
      ],
      "metadata": {
        "id": "oFzGzBajo9-U"
      }
    },
    {
      "cell_type": "code",
      "source": [
        "from heapq import heappush, heappop\n",
        "import numpy as np\n",
        "from itertools import combinations\n",
        "import random\n",
        "import networkx as nx\n",
        "import math\n",
        "import time\n",
        "import matplotlib.pyplot as plt"
      ],
      "metadata": {
        "id": "F9gVcvEppCX7"
      },
      "execution_count": null,
      "outputs": []
    },
    {
      "cell_type": "markdown",
      "source": [
        "### Algoritmusok"
      ],
      "metadata": {
        "id": "lc0NXTQQo4FC"
      }
    },
    {
      "cell_type": "markdown",
      "metadata": {
        "id": "tz3PsDdeGnGG"
      },
      "source": [
        "Nem-negatív élsúlyozás, szig. mon. csökk. legrövidebb út"
      ]
    },
    {
      "cell_type": "code",
      "source": [
        "def nemneg_mon(input):\n",
        "    n, adj_list, s = input\n",
        "    V = list(range(1, n+1))\n",
        "    P = []\n",
        "    S = {s}\n",
        "    p_v = {s: s}\n",
        "    p_e = {}\n",
        "    R = {s: 0}\n",
        "    K = {}\n",
        "\n",
        "\n",
        "    h = [0 for u in V]\n",
        "    degree = {u: len(adj_list[u]) for u in V}\n",
        "    F = {u: sorted(adj_list[u], key=lambda x: x[1]) for u in V}\n",
        "\n",
        "    for v, cost in adj_list[s]:\n",
        "        heappush(P, (cost, s, v, cost))\n",
        "        K[s,v] = cost\n",
        "        p_e[s,v] = s\n",
        "        R[v] = cost\n",
        "        p_v[v] = (s,v)\n",
        "\n",
        "\n",
        "    while P:\n",
        "        K_uv, u, v, c_uv = heappop(P)\n",
        "        if h[v-1] > degree[v]:\n",
        "            continue\n",
        "\n",
        "\n",
        "        for i in range(h[v-1], degree[v]):\n",
        "            t, c_vt = F[v][i]\n",
        "            if c_vt >= c_uv:\n",
        "                break\n",
        "\n",
        "            K_total = K_uv + c_vt\n",
        "            if (v,t) not in K or K_total < K[v,t]:\n",
        "                K[v,t] = K_total\n",
        "                p_e[v,t] = (u,v)\n",
        "                heappush(P, (K_total, v, t, c_vt))\n",
        "            if t not in R or K_total < R[t]:\n",
        "                R[t] = K_total\n",
        "                p_v[t] = (v,t)\n",
        "\n",
        "            h[v-1] += 1\n",
        "\n",
        "    return R, p_v, p_e"
      ],
      "metadata": {
        "id": "bTZ2pYvFjhpu"
      },
      "execution_count": null,
      "outputs": []
    },
    {
      "cell_type": "markdown",
      "metadata": {
        "id": "LWFp_OCaG0I1"
      },
      "source": [
        "Konzervatív élsúlyozás, szig. mon. csökk. legrövidebb út"
      ]
    },
    {
      "cell_type": "code",
      "source": [
        "def konz_mon(input):\n",
        "    n, adj_list, s = input\n",
        "    V = list(range(1, n + 1))\n",
        "\n",
        "    degree = {u: len(adj_list[u]) for u in V}\n",
        "    F = {u: sorted(adj_list[u], key=lambda x: x[1]) for u in V}  # élsúly szerint rendezve\n",
        "    p_e = {}\n",
        "    R = {s: 0}\n",
        "    p_v = {s: s}\n",
        "    K = {}\n",
        "    p = {}\n",
        "    c = {}\n",
        "\n",
        "    # Kezdeti értékek\n",
        "    p[s] = 0\n",
        "    R[s] = 0\n",
        "    for u in V:\n",
        "        for v, cost in adj_list[u]:\n",
        "            c[u,v] = cost\n",
        "            K[u, v] = float('inf')\n",
        "    for v, cost in adj_list[s]:\n",
        "        p[s, v] = cost\n",
        "        K[s, v] = cost\n",
        "        R[v] = cost\n",
        "\n",
        "\n",
        "    for _ in range(n - 1):\n",
        "        for u in V:\n",
        "            h = [0 for u in V]\n",
        "\n",
        "        Q = sorted(K.keys(), key=lambda edge: K[edge]) #K alapján növekvő sorba rendezve\n",
        "        for (u, v) in Q:\n",
        "            if h[v-1] > degree[v]:\n",
        "                continue\n",
        "\n",
        "            for i in range(h[v-1], degree[v]):\n",
        "                t, c_vt = F[v][i]\n",
        "                if c_vt >= c[u,v]:\n",
        "                    break\n",
        "\n",
        "                if K[(u, v)] + c_vt < K[(v, t)]:\n",
        "                    K[(v, t)] = K[(u, v)] + c_vt\n",
        "                    p[(v, t)] = (u, v)\n",
        "                    if t not in R or K[(v, t)] < R[t]:\n",
        "                        R[t] = K[(v, t)]\n",
        "                        p_v[t] = (v, t)\n",
        "\n",
        "                h[v-1] += 1\n",
        "\n",
        "    return R, p_v, p_e"
      ],
      "metadata": {
        "id": "qnnSfnF2gGEn"
      },
      "execution_count": null,
      "outputs": []
    },
    {
      "cell_type": "markdown",
      "metadata": {
        "id": "ZB_cbH8vQiqf"
      },
      "source": [
        "Nem-negatív csúcssúlyozású minimális út"
      ]
    },
    {
      "cell_type": "code",
      "execution_count": null,
      "metadata": {
        "id": "QXkjVXu9RKgk"
      },
      "outputs": [],
      "source": [
        "def csucs_min(input):\n",
        "    n, adj_list, s, w = input\n",
        "    V = list(range(1, n+1))\n",
        "    P = []\n",
        "    M = set(V) - {s}\n",
        "    p = {s: s}\n",
        "    K = {s: 0}\n",
        "\n",
        "    heappush(P, (w[s], s))\n",
        "    while P:\n",
        "        K_u, u = heappop(P)\n",
        "\n",
        "        for v in adj_list[u]:\n",
        "            if v in M:\n",
        "                K[v] = K_u + w[v]\n",
        "                p[v] = u\n",
        "                heappush(P, (K[v], v))\n",
        "                M.remove(v)\n",
        "\n",
        "    return K, p"
      ]
    },
    {
      "cell_type": "markdown",
      "metadata": {
        "id": "j0QNPgb3SDKk"
      },
      "source": [
        "Legfeljebb k élű minimális út"
      ]
    },
    {
      "cell_type": "code",
      "execution_count": null,
      "metadata": {
        "id": "eCwIRqTQSDd9"
      },
      "outputs": [],
      "source": [
        "def k_el_min(input):\n",
        "    n, adj_list, s, k = input\n",
        "    K = np.full((k+1, n), np.inf)\n",
        "    p = np.full((k+1, n), None)\n",
        "\n",
        "    K[0][s-1] = 0\n",
        "    p[0][s-1] = s\n",
        "    for j in range(1, k+1):\n",
        "        for u in range(1,n+1):\n",
        "            K[j][u-1] = K[j-1][u-1]\n",
        "            p[j][u-1] = p[j-1][u-1]\n",
        "        for u in range(1,n+1):\n",
        "            for v, cost in adj_list[u]:\n",
        "                if K[j][v-1] > K[j-1][u-1] + cost:\n",
        "                    K[j][v-1] = K[j-1][u-1] + cost\n",
        "                    p[j][v-1] = u\n",
        "\n",
        "    return K, p"
      ]
    },
    {
      "cell_type": "markdown",
      "metadata": {
        "id": "ZPM2ekSPHEor"
      },
      "source": [
        "Pontosan k-hosszú út"
      ]
    },
    {
      "cell_type": "code",
      "execution_count": null,
      "metadata": {
        "id": "8XzWaF4wHK-S"
      },
      "outputs": [],
      "source": [
        "def coloring(n, adj_list, k, seed = None):\n",
        "    if seed is not None:\n",
        "        random.seed(seed)\n",
        "    V = list(range(1, n+1))\n",
        "    node_colors = {v: random.randint(0, k-1) for v in V}\n",
        "    new_adj_list = {v: [] for v in V}\n",
        "\n",
        "\n",
        "    for u in adj_list:\n",
        "        for v, w in adj_list[u]:\n",
        "            new_adj_list[u].append((v,w,node_colors[v]))\n",
        "\n",
        "\n",
        "    return node_colors, new_adj_list"
      ]
    },
    {
      "cell_type": "code",
      "execution_count": null,
      "metadata": {
        "id": "mcVbSNgAEzJG"
      },
      "outputs": [],
      "source": [
        "def colorcoding(input, seed = None):\n",
        "    n, adj_list, s, k = input\n",
        "\n",
        "    f = {}\n",
        "    p = {}\n",
        "    colors = set(range(0,k))\n",
        "    _, adj_list = coloring(n, adj_list, k, seed)\n",
        "\n",
        "    rev_lst = {u: [] for u in adj_list}\n",
        "\n",
        "    for u in adj_list:\n",
        "        for v, weight, color in adj_list[u]:\n",
        "            rev_lst[v].append((u, weight, color))\n",
        "\n",
        "    # Színek részhalmazai elemszám szerint növekvő sorrendben\n",
        "    P = [frozenset(comb) for i in range(1, k+1) for comb in combinations(colors, i)]\n",
        "\n",
        "\n",
        "    for p_set in P:\n",
        "        for u in adj_list:\n",
        "            if not adj_list[u]:\n",
        "                continue\n",
        "            for v, _, edge_color in adj_list[u]:\n",
        "                f[p_set, (u, v)] = False\n",
        "\n",
        "            if u == s and edge_color in p_set:\n",
        "                f[p_set, (u, v)] = True\n",
        "                p[p_set, (u, v)] = s\n",
        "\n",
        "    for p_set in P[k:]:\n",
        "        for u in adj_list:\n",
        "            for (v, w, edge_color) in adj_list[u]:\n",
        "                f[p_set, (u, v)] = False\n",
        "                if edge_color in p_set:\n",
        "                    for (t, ww, _) in rev_lst[u]:\n",
        "                        if f.get((p_set - {edge_color}, (t, u)), True) and ww < w and v != s:\n",
        "                            f[p_set, (u, v)] = True\n",
        "                            p[p_set, (u, v)] = (t, u)\n",
        "\n",
        "\n",
        "    f_v = {}\n",
        "    p_v = {}\n",
        "\n",
        "    for u in adj_list:\n",
        "        for v, _, _ in adj_list[u]:\n",
        "            if f.get((P[-1], (u, v)), True):\n",
        "                f_v[v] = True\n",
        "                p_v[v] = (u, v)\n",
        "\n",
        "    return f_v, p_v, f, p"
      ]
    }
  ],
  "metadata": {
    "colab": {
      "provenance": [],
      "authorship_tag": "ABX9TyNwxs2K5HiJccjpny7nW/GY",
      "include_colab_link": true
    },
    "kernelspec": {
      "display_name": "Python 3",
      "name": "python3"
    },
    "language_info": {
      "name": "python"
    }
  },
  "nbformat": 4,
  "nbformat_minor": 0
}