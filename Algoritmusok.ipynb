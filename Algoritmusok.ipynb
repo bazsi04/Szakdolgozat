{
  "nbformat": 4,
  "nbformat_minor": 0,
  "metadata": {
    "colab": {
      "provenance": [],
      "authorship_tag": "ABX9TyN8Jpa6pcdKJ+fjTxUYqa4W",
      "include_colab_link": true
    },
    "kernelspec": {
      "name": "python3",
      "display_name": "Python 3"
    },
    "language_info": {
      "name": "python"
    }
  },
  "cells": [
    {
      "cell_type": "markdown",
      "metadata": {
        "id": "view-in-github",
        "colab_type": "text"
      },
      "source": [
        "<a href=\"https://colab.research.google.com/github/bazsi04/Szakdolgozat/blob/main/Algoritmusok.ipynb\" target=\"_parent\"><img src=\"https://colab.research.google.com/assets/colab-badge.svg\" alt=\"Open In Colab\"/></a>"
      ]
    },
    {
      "cell_type": "markdown",
      "metadata": {
        "id": "tz3PsDdeGnGG"
      },
      "source": [
        "### Nem-negatív élsúlyozás, szig. mon. csökk. legrövidebb út"
      ]
    },
    {
      "cell_type": "code",
      "execution_count": null,
      "metadata": {
        "id": "gD4MXMG290bd"
      },
      "outputs": [],
      "source": [
        "from heapq import heappush, heappop\n",
        "\n",
        "def nem_neg_mon(input):\n",
        "    V, adj_list, s = input\n",
        "    P = []\n",
        "    S = {s}\n",
        "    p_v = {s: s}\n",
        "    p_e = {}\n",
        "    R = {s: 0}\n",
        "    c = {}\n",
        "\n",
        "    for u in adj_list:\n",
        "        for (v, weight) in adj_list[u]:\n",
        "            c[u,v] = weight\n",
        "\n",
        "    h = {u: 0 for u in V}\n",
        "    numedge = {u: len(adj_list[u]) for u in V}\n",
        "    F = {u: sorted(adj_list[u], key=lambda x: x[1]) for u in V}\n",
        "\n",
        "    for v, K in adj_list[s]:\n",
        "        heappush(P, (K, s, v))\n",
        "        p_e[s,v] = s\n",
        "        if v not in R or K_total < R[t]:\n",
        "            R[v] = K\n",
        "            p_v[v] = (s,v)\n",
        "\n",
        "\n",
        "    while P:\n",
        "        K_uv, u, v = heappop(P)\n",
        "        if h[v] > numedge[v]:\n",
        "            continue\n",
        "\n",
        "\n",
        "        for i in range(h[v], numedge[v]):\n",
        "            t, K_vt = F[v][i]\n",
        "            if c[v,t] >= c[u,v]:\n",
        "                break\n",
        "\n",
        "            K_total = K_uv + c[v,t]\n",
        "            p_e[v,t] = (u, v)\n",
        "            if t not in R or K_total < R[t]:\n",
        "                R[t] = K_total\n",
        "                p_v[t] = (v,t)\n",
        "                heappush(P, (K_total, v, t))\n",
        "\n",
        "            h[v] += 1\n",
        "\n",
        "    return p_v, p_e, R\n"
      ]
    },
    {
      "cell_type": "markdown",
      "metadata": {
        "id": "LWFp_OCaG0I1"
      },
      "source": [
        "### Konzervatív élsúlyozás, szig. mon. csökk. legrövidebb út"
      ]
    },
    {
      "cell_type": "code",
      "execution_count": null,
      "metadata": {
        "id": "BjerdAT7G39U"
      },
      "outputs": [],
      "source": [
        "from heapq import heappush, heappop\n",
        "\n",
        "def konz_mon(input):\n",
        "    V, adj_list, s = input\n",
        "    P = []\n",
        "    S = {s}\n",
        "    p_v = {s: s}\n",
        "    p_e = {}\n",
        "    R = {s: 0}\n",
        "    c = {}\n",
        "\n",
        "    for u in adj_list:\n",
        "        for (v, weight) in adj_list[u]:\n",
        "            c[u, v] = weight\n",
        "\n",
        "    h = {u: 0 for u in V}\n",
        "    numedge = {u: len(adj_list[u]) for u in V}\n",
        "    F = {u: sorted(adj_list[u], key=lambda x: x[1]) for u in V}\n",
        "\n",
        "    for v, cost in adj_list[s]:\n",
        "        heappush(P, (cost, s, v))\n",
        "        p_e[s, v] = s\n",
        "        if v not in R or cost < R[v]:\n",
        "            R[v] = cost\n",
        "            p_v[v] = (s, v)\n",
        "\n",
        "    while P:\n",
        "        K_uv, u, v = heappop(P)\n",
        "        if h[v] >= numedge[v]:\n",
        "            continue\n",
        "\n",
        "        for i in range(h[v], numedge[v]):\n",
        "            t, c_vt = F[v][i]\n",
        "            if c_vt >= c[u, v]:\n",
        "                break\n",
        "\n",
        "            K_total = K_uv + c_vt\n",
        "            p_e[v, t] = (u, v)\n",
        "            if t not in R or K_total < R[t]:\n",
        "                R[t] = K_total\n",
        "                p_v[t] = (v, t)\n",
        "                heappush(P, (K_total, v, t))\n",
        "\n",
        "            h[v] += 1\n",
        "\n",
        "    return p_v, p_e, R\n"
      ]
    },
    {
      "cell_type": "markdown",
      "metadata": {
        "id": "ZB_cbH8vQiqf"
      },
      "source": [
        "### Nem-negatív csúcssúlyozás minimális út"
      ]
    },
    {
      "cell_type": "code",
      "execution_count": null,
      "metadata": {
        "id": "QXkjVXu9RKgk"
      },
      "outputs": [],
      "source": [
        "def csucs_min(input):\n",
        "    V, adj_list, s = input\n",
        "    P = []\n",
        "    S = set()\n",
        "    M = set(V) - {s}\n",
        "    p_v = {s: s}\n",
        "    K = {s: 0}\n",
        "    w = {}\n",
        "\n",
        "    for u in adj_list:\n",
        "        for v, weight in adj_list[u]:\n",
        "            w[v] = weight\n",
        "\n",
        "    heappush(P, (w.get(s, 0), s))\n",
        "    while P:\n",
        "        K_u, u = heappop(P)\n",
        "        if u in S:\n",
        "            continue\n",
        "        S.add(u)\n",
        "\n",
        "        for v, _ in adj_list.get(u, []):\n",
        "            if v in M:\n",
        "                K[v] = K[u] + w.get(v, 0)\n",
        "                p_v[v] = p_v[u]\n",
        "                heappush(P, (K[v], v))\n",
        "                M.remove(v)\n",
        "\n",
        "    return p_v, K"
      ]
    },
    {
      "cell_type": "markdown",
      "metadata": {
        "id": "j0QNPgb3SDKk"
      },
      "source": [
        "### Legfeljebb k élű minimális út"
      ]
    },
    {
      "cell_type": "code",
      "execution_count": null,
      "metadata": {
        "id": "eCwIRqTQSDd9"
      },
      "outputs": [],
      "source": [
        "def k_el_min(input):\n",
        "    V, adj_list, s, k = input\n",
        "    K = {}\n",
        "    p = {}\n",
        "    c = {}\n",
        "\n",
        "    for u in adj_list:\n",
        "        for (v, weight) in adj_list[u]:\n",
        "            c[(u, v)] = weight\n",
        "\n",
        "\n",
        "    for u in V:\n",
        "        K[(0, u)] = float('inf')\n",
        "    K[(0, s)] = 0\n",
        "    p[(0, s)] = s\n",
        "\n",
        "    for j in range(1, k + 1):\n",
        "        for u in V:\n",
        "            K[(j, u)] = float('inf')\n",
        "            p[(j, u)] = p.get((j - 1, u), None)\n",
        "\n",
        "        for u in adj_list:\n",
        "            for v, cost in adj_list[u]:\n",
        "                prev = K.get((j - 1, u), float('inf'))\n",
        "                if K[(j, v)] > prev + cost:\n",
        "                    K[(j, v)] = prev + cost\n",
        "                    p[(j, v)] = u\n",
        "\n",
        "    return K, p"
      ]
    },
    {
      "cell_type": "markdown",
      "metadata": {
        "id": "ZPM2ekSPHEor"
      },
      "source": [
        "### k-hosszú út"
      ]
    },
    {
      "cell_type": "code",
      "execution_count": null,
      "metadata": {
        "id": "8XzWaF4wHK-S"
      },
      "outputs": [],
      "source": [
        "def coloring(V, adj_list, k, seed = None):\n",
        "    if seed is not None:\n",
        "        random.seed(seed)\n",
        "\n",
        "    node_colors = {v: random.randint(0, k-1) for v in V}\n",
        "\n",
        "\n",
        "    edge_colors = {}\n",
        "    for u in adj_list:\n",
        "        for v, _ in adj_list[u]:\n",
        "            edge_colors[(u, v)] = node_colors[v]\n",
        "\n",
        "    return node_colors, edge_colors"
      ]
    },
    {
      "cell_type": "code",
      "execution_count": null,
      "metadata": {
        "id": "nCmhc8qGLY5q"
      },
      "outputs": [],
      "source": [
        "from itertools import combinations\n",
        "import random\n",
        "\n",
        "def colorcoding(input, seed = None):\n",
        "    V, adj_list, s, k = input\n",
        "    from collections import defaultdict\n",
        "    f = {}\n",
        "    p = {}\n",
        "    colors = set(range(0,k))\n",
        "    _, edge_colors = coloring(V, adj_list, k, seed)\n",
        "    #print(\"colors: \",edge_colors)\n",
        "    w = {}\n",
        "    for u in adj_list:\n",
        "        for (v, weight) in adj_list[u]:\n",
        "            w[u, v] = weight\n",
        "\n",
        "    E = [(u, v) for u in adj_list for (v,_) in adj_list[u]]\n",
        "\n",
        "    rev_adj_list = {}\n",
        "    # Színek részhalmazai elemszám szerint növekvő sorrendben\n",
        "    P = [frozenset(comb) for i in range(1, k+1) for comb in combinations(colors, i)]\n",
        "\n",
        "\n",
        "    for p_set in P:\n",
        "        for (u, v) in E:\n",
        "            f[p_set, (u, v)] = False\n",
        "\n",
        "\n",
        "            if u == s and edge_colors[(u, v)] in p_set:\n",
        "                f[p_set, (u, v)] = True\n",
        "                p[p_set, (u, v)] = s\n",
        "\n",
        "\n",
        "    for p_set in P[k:]:\n",
        "        for (u, v) in E:\n",
        "            f[p_set, (u, v)] = False\n",
        "            if edge_colors[(u, v)] in p_set:\n",
        "                for (t, uu) in E:\n",
        "                    if uu == u and f.get((p_set - {edge_colors[(u, v)]}, (t, uu)), True) and w[(t, uu)] < w[(u, v)] and v != s:\n",
        "                        f[p_set, (u, v)] = True\n",
        "                        p[p_set, (u, v)] = (t, u)\n",
        "\n",
        "    for p_set in P[k:]:\n",
        "        for (u, v) in E:\n",
        "            f[p_set, (u, v)] = False\n",
        "            if edge_colors[(u, v)] in p_set:\n",
        "                for (t, uu) in E:\n",
        "                    if uu == u and f.get((p_set - {edge_colors[(u, v)]}, (t, uu)), True) and w[(t, uu)] < w[(u, v)] and v != s:\n",
        "                        f[p_set, (u, v)] = True\n",
        "                        p[p_set, (u, v)] = (t, u)\n",
        "\n",
        "\n",
        "    f_v = {}\n",
        "    p_v = {}\n",
        "    for (u, v) in E:\n",
        "        if f.get((P[-1], (u, v)), True):\n",
        "            f_v[v] = True\n",
        "            p_v[v] = (u, v)\n",
        "\n",
        "    return f_v, p_v, f, p"
      ]
    },
    {
      "cell_type": "code",
      "source": [
        "from itertools import combinations\n",
        "import random\n",
        "\n",
        "def colorcoding_fast(input, seed = None):\n",
        "    V, adj_list, s, k = input\n",
        "    from collections import defaultdict\n",
        "    f = {}\n",
        "    p = {}\n",
        "    colors = set(range(0,k))\n",
        "    _, edge_colors = coloring(V, adj_list, k, seed)\n",
        "    #print(\"colors: \",edge_colors)\n",
        "    \"\"\"\n",
        "    w = {}\n",
        "    for u in adj_list:\n",
        "        for (v, weight) in adj_list[u]:\n",
        "            w[u, v] = weight\n",
        "\n",
        "    E = [(u, v) for u in adj_list for (v,_) in adj_list[u]]\n",
        "    \"\"\"\n",
        "    rev_lst = {u: [] for u in adj_list}\n",
        "\n",
        "    for u in adj_list:\n",
        "        for v, weight in adj_list[u]:\n",
        "            rev_lst[v].append((u, weight))\n",
        "\n",
        "    # Színek részhalmazai elemszám szerint növekvő sorrendben\n",
        "    P = [frozenset(comb) for i in range(1, k+1) for comb in combinations(colors, i)]\n",
        "\n",
        "\n",
        "    for p_set in P:\n",
        "        for u in adj_list:\n",
        "            for v, _ in adj_list[u]:\n",
        "                f[p_set, (u, v)] = False\n",
        "\n",
        "\n",
        "            if u == s and edge_colors[(u, v)] in p_set:\n",
        "                f[p_set, (u, v)] = True\n",
        "                p[p_set, (u, v)] = s\n",
        "\n",
        "    \"\"\"\n",
        "    for p_set in P[k:]:\n",
        "        for (u, v) in E:\n",
        "            f[p_set, (u, v)] = False\n",
        "            if edge_colors[(u, v)] in p_set:\n",
        "                for (t, uu) in E:\n",
        "                    if uu == u and f.get((p_set - {edge_colors[(u, v)]}, (t, uu)), True) and w[(t, uu)] < w[(u, v)] and v != s:\n",
        "                        f[p_set, (u, v)] = True\n",
        "                        p[p_set, (u, v)] = (t, u)\n",
        "    \"\"\"\n",
        "    for p_set in P[k:]:\n",
        "        for u in adj_list:\n",
        "            for (v, w) in adj_list[u]:\n",
        "                f[p_set, (u, v)] = False\n",
        "                if edge_colors[(u, v)] in p_set:\n",
        "                    for (t, ww) in rev_lst[u]:\n",
        "                        if f.get((p_set - {edge_colors[(u, v)]}, (t, u)), True) and ww < w and v != s:\n",
        "                            f[p_set, (u, v)] = True\n",
        "                            p[p_set, (u, v)] = (t, u)\n",
        "\n",
        "\n",
        "    f_v = {}\n",
        "    p_v = {}\n",
        "    \"\"\"\n",
        "    for (u, v) in E:\n",
        "        if f.get((P[-1], (u, v)), True):\n",
        "            f_v[v] = True\n",
        "            p_v[v] = (u, v)\n",
        "    \"\"\"\n",
        "    for u in adj_list:\n",
        "        for v, _ in adj_list[u]:\n",
        "            if f.get((P[-1], (u, v)), True):\n",
        "                f_v[v] = True\n",
        "                p_v[v] = (u, v)\n",
        "\n",
        "    return f_v, p_v, f, p"
      ],
      "metadata": {
        "id": "mcVbSNgAEzJG"
      },
      "execution_count": null,
      "outputs": []
    }
  ]
}